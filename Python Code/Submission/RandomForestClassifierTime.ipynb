{
 "cells": [
  {
   "cell_type": "markdown",
   "metadata": {},
   "source": [
    "# Random Forest Classifier"
   ]
  },
  {
   "cell_type": "markdown",
   "metadata": {},
   "source": [
    "Using cleaned data, we combined the dataset with converted dates of the accident, so that we could add time as an additional feature to predict severity of casualty."
   ]
  },
  {
   "cell_type": "code",
   "execution_count": 1,
   "metadata": {},
   "outputs": [],
   "source": [
    "import pandas as pd\n",
    "import numpy as np"
   ]
  },
  {
   "cell_type": "code",
   "execution_count": 2,
   "metadata": {},
   "outputs": [
    {
     "name": "stderr",
     "output_type": "stream",
     "text": [
      "/anaconda3/lib/python3.6/site-packages/IPython/core/interactiveshell.py:3018: DtypeWarning: Columns (0,55) have mixed types. Specify dtype option on import or set low_memory=False.\n",
      "  interactivity=interactivity, compiler=compiler, result=result)\n"
     ]
    }
   ],
   "source": [
    "data = pd.read_csv(\"./data.csv\") \n",
    "time_data = pd.read_csv('./Road Accident/Road-Accident.csv', na_values=-1, parse_dates=['time'], infer_datetime_format=True)\n"
   ]
  },
  {
   "cell_type": "code",
   "execution_count": 3,
   "metadata": {},
   "outputs": [
    {
     "name": "stderr",
     "output_type": "stream",
     "text": [
      "/anaconda3/lib/python3.6/site-packages/ipykernel_launcher.py:9: FutureWarning: set_value is deprecated and will be removed in a future release. Please use .at[] or .iat[] accessors instead\n",
      "  if __name__ == '__main__':\n"
     ]
    }
   ],
   "source": [
    "# config datetime to ordered integers\n",
    "st = pd.Timestamp(year=1900, month=1, day=1)\n",
    "def convert_date(x):\n",
    "    return (pd.to_datetime(x,dayfirst=True) - st).days + 2\n",
    "#print((pd.to_datetime('31/12/2014',dayfirst=True) - st).days + 2)\n",
    "for i, row in time_data.iterrows():\n",
    "    if len(row['date']) == 10:\n",
    "        c = convert_date(row['date'])\n",
    "        time_data.set_value(i,'date', c)\n",
    "     \n",
    "    \n",
    "time_data['date'] = time_data['date'].astype(np.int64)"
   ]
  },
  {
   "cell_type": "code",
   "execution_count": 4,
   "metadata": {},
   "outputs": [],
   "source": [
    "# merge two datasets with common index, adding date column to data\n",
    "\n",
    "d = data['Unnamed: 0'].values\n",
    "dt = time_data.date.values\n",
    "new_col = []\n",
    "for i in d:\n",
    "    new_col.append(dt[i])\n",
    "\n",
    "data['date'] = new_col\n",
    "\n",
    "data = data.dropna()\n"
   ]
  },
  {
   "cell_type": "markdown",
   "metadata": {},
   "source": [
    "Preparing merged data into X_data and y_labels. We split the data into training and testing data (with a 80:20 ratio). We then used RandomForestClassifier to fit the model, and we analysed the results using a confusion matrix."
   ]
  },
  {
   "cell_type": "code",
   "execution_count": 5,
   "metadata": {},
   "outputs": [],
   "source": [
    "y = data.casualty_severity\n",
    "X = data.drop('casualty_class', axis=1)"
   ]
  },
  {
   "cell_type": "code",
   "execution_count": 6,
   "metadata": {},
   "outputs": [],
   "source": [
    "from sklearn.ensemble import RandomForestClassifier\n",
    "from sklearn.model_selection import train_test_split"
   ]
  },
  {
   "cell_type": "code",
   "execution_count": 7,
   "metadata": {},
   "outputs": [],
   "source": [
    "continuous_variables = ['longitude', 'latitude']\n",
    "\n",
    "y = data['casualty_severity']\n",
    "X = data.drop('casualty_severity', axis=1)"
   ]
  },
  {
   "cell_type": "code",
   "execution_count": 8,
   "metadata": {},
   "outputs": [],
   "source": [
    "# Split data into training and testing data\n",
    "\n",
    "X_train, X_test, y_train, y_test = train_test_split(X, y, random_state=4, test_size=0.2)"
   ]
  },
  {
   "cell_type": "code",
   "execution_count": 9,
   "metadata": {},
   "outputs": [
    {
     "data": {
      "text/plain": [
       "RandomForestClassifier(bootstrap=True, class_weight=None, criterion='gini',\n",
       "            max_depth=4, max_features='auto', max_leaf_nodes=None,\n",
       "            min_impurity_decrease=0.0, min_impurity_split=None,\n",
       "            min_samples_leaf=1, min_samples_split=2,\n",
       "            min_weight_fraction_leaf=0.0, n_estimators=50, n_jobs=None,\n",
       "            oob_score=False, random_state=None, verbose=0,\n",
       "            warm_start=False)"
      ]
     },
     "execution_count": 9,
     "metadata": {},
     "output_type": "execute_result"
    }
   ],
   "source": [
    "# Fit model into Classifier\n",
    "\n",
    "rf = RandomForestClassifier(max_depth=4, n_estimators=50)\n",
    "rf.fit(X_train, y_train)"
   ]
  },
  {
   "cell_type": "code",
   "execution_count": 10,
   "metadata": {},
   "outputs": [
    {
     "name": "stdout",
     "output_type": "stream",
     "text": [
      "RESULTS: \n",
      "\n",
      "The confusion matrix: \n",
      "\n",
      "[[    0    30    42]\n",
      " [    0   397   835]\n",
      " [    0    16 11882]]\n",
      "\n",
      "The classification report:\n",
      "\n",
      "              precision    recall  f1-score   support\n",
      "\n",
      "         1.0      0.000     0.000     0.000        72\n",
      "         2.0      0.896     0.322     0.474      1232\n",
      "         3.0      0.931     0.999     0.964     11898\n",
      "\n",
      "   micro avg      0.930     0.930     0.930     13202\n",
      "   macro avg      0.609     0.440     0.479     13202\n",
      "weighted avg      0.923     0.930     0.913     13202\n",
      "\n"
     ]
    },
    {
     "name": "stderr",
     "output_type": "stream",
     "text": [
      "/anaconda3/lib/python3.6/site-packages/sklearn/metrics/classification.py:1143: UndefinedMetricWarning: Precision and F-score are ill-defined and being set to 0.0 in labels with no predicted samples.\n",
      "  'precision', 'predicted', average, warn_for)\n"
     ]
    }
   ],
   "source": [
    "y_test_pred = rf.predict(X_test)\n",
    "\n",
    "from sklearn.metrics import accuracy_score, classification_report, confusion_matrix\n",
    "\n",
    "print(\"RESULTS: \\n\")\n",
    "\n",
    "print(\"The confusion matrix: \\n\")\n",
    "print(confusion_matrix(y_test, y_test_pred))\n",
    "print(\"\\nThe classification report:\\n\")\n",
    "print(classification_report(y_test, y_test_pred, digits=3))"
   ]
  },
  {
   "cell_type": "code",
   "execution_count": null,
   "metadata": {},
   "outputs": [],
   "source": []
  }
 ],
 "metadata": {
  "kernelspec": {
   "display_name": "Python 3",
   "language": "python",
   "name": "python3"
  },
  "language_info": {
   "codemirror_mode": {
    "name": "ipython",
    "version": 3
   },
   "file_extension": ".py",
   "mimetype": "text/x-python",
   "name": "python",
   "nbconvert_exporter": "python",
   "pygments_lexer": "ipython3",
   "version": "3.6.6"
  }
 },
 "nbformat": 4,
 "nbformat_minor": 2
}
