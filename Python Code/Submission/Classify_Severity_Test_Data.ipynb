{
 "cells": [
  {
   "cell_type": "code",
   "execution_count": null,
   "metadata": {},
   "outputs": [],
   "source": [
    "import pandas as pd\n",
    "\n",
    "data = pd.read_csv(\"no_nulls_1.csv\")\n",
    "data.drop([\"Unnamed: 0\", \"Unnamed: 0.1\"], axis=1, inplace=True)\n",
    "data.shape"
   ]
  },
  {
   "cell_type": "code",
   "execution_count": null,
   "metadata": {},
   "outputs": [],
   "source": [
    "nunique_40 = data.nunique(axis=0) > 70\n",
    "nunique_40 = nunique_40[nunique_40]\n",
    "nunique_40[['longitude', 'latitude', 'time', '1st_road_number', '2nd_road_number']] = False\n",
    "nunique_40 = nunique_40[nunique_40]\n",
    "std_dev = data[nunique_40.index].std(axis=0)"
   ]
  },
  {
   "cell_type": "code",
   "execution_count": null,
   "metadata": {},
   "outputs": [],
   "source": [
    "data.head()[['engine_capacity_(cc)', 'age_of_vehicle']]\n",
    "data.dropna(inplace=True)\n",
    "\n",
    "data.shape"
   ]
  },
  {
   "cell_type": "code",
   "execution_count": null,
   "metadata": {},
   "outputs": [],
   "source": [
    "mu = data[std_dev.index].mean()\n",
    "k = 3\n",
    "\n",
    "for index, row in data.iterrows():\n",
    "    r = row.loc[std_dev.index]\n",
    "    old_len = r.shape[0]\n",
    "    r = r[(mu - k*std_dev < r) & (r < mu + k*std_dev)]\n",
    "    new_len = r.shape[0]\n",
    "    if new_len != old_len:\n",
    "        data.drop(index, inplace=True)\n",
    "    \n",
    "data.shape"
   ]
  },
  {
   "cell_type": "code",
   "execution_count": null,
   "metadata": {},
   "outputs": [],
   "source": [
    "import pickle\n",
    "pickle.dump(data, open(\"data_post_std.pickle\", 'wb'))"
   ]
  },
  {
   "cell_type": "code",
   "execution_count": null,
   "metadata": {},
   "outputs": [],
   "source": [
    "data = pickle.load(open(\"data_post_std.pickle\", 'rb'))"
   ]
  },
  {
   "cell_type": "code",
   "execution_count": null,
   "metadata": {},
   "outputs": [],
   "source": [
    "feature_list = [ 'longitude',\n",
    " 'latitude',\n",
    " 'police_force',\n",
    " 'accident_severity',\n",
    " 'number_of_vehicles',\n",
    " 'number_of_casualties',\n",
    " 'day_of_week',\n",
    " 'time', '1st_road_class',\n",
    " '1st_road_number',\n",
    " 'road_type',\n",
    " 'speed_limit','junction_detail',\n",
    " 'junction_control',\n",
    " '2nd_road_class',\n",
    " '2nd_road_number', 'pedestrian_crossing-human_control',\n",
    " 'pedestrian_crossing-physical_facilities',\n",
    " 'light_conditions',  'weather_conditions',\n",
    " 'road_surface_conditions',\n",
    " 'special_conditions_at_site',\n",
    " 'carriageway_hazards',\n",
    " 'urban_or_rural_area','did_police_officer_attend_scene_of_accident', \n",
    " 'casualty_class']\n",
    "data = data[feature_list]"
   ]
  },
  {
   "cell_type": "code",
   "execution_count": null,
   "metadata": {},
   "outputs": [],
   "source": [
    "y = data['casualty_class']\n",
    "X = data.drop('casualty_class', axis=1)\n",
    "\n",
    "from sklearn.preprocessing import StandardScaler\n",
    "\n",
    "X = StandardScaler().fit_transform(X.values)"
   ]
  },
  {
   "cell_type": "code",
   "execution_count": null,
   "metadata": {},
   "outputs": [],
   "source": [
    "from sklearn.decomposition import IncrementalPCA\n",
    "import numpy as np\n",
    "\n",
    "n_batches = 5\n",
    "\n",
    "explained_variances = []\n",
    "\n",
    "def fit_PCA(n_components, X):\n",
    "    inc_pca = IncrementalPCA(n_components=n_components)\n",
    "    \n",
    "    for X_batch in np.array_split(X, n_batches):\n",
    "        inc_pca.partial_fit(X_batch)\n",
    "        \n",
    "    return inc_pca    \n",
    "\n",
    "for n_components in range(1, 25, 1):\n",
    "    inc_pca = fit_PCA(n_components, X)\n",
    "    X_reduced = inc_pca.transform(X)\n",
    "    cumsum = np.cumsum(inc_pca.explained_variance_ratio_)\n",
    "    explained_variances.append(np.max(cumsum))\n",
    "    # Calculating the number of the dimensions we need until we get 95% explained variance \n",
    "    # We then want the next one up.\n",
    "    d = np.argmax(cumsum >= 0.95) + 1"
   ]
  },
  {
   "cell_type": "code",
   "execution_count": null,
   "metadata": {},
   "outputs": [],
   "source": [
    "%matplotlib inline\n",
    "import matplotlib.pyplot as plt\n",
    "fig = plt.figure()\n",
    "ax = fig.add_subplot(111)\n",
    "ax.axhline(y=0.95, linestyle='--', color=\"black\")\n",
    "ax.axvline(x=21, linestyle='--', color=\"black\")\n",
    "ax.plot(explained_variances)\n",
    "ax.set_xlabel(\"Dimension\")\n",
    "ax.set_ylabel(\"Explained Variance\")"
   ]
  },
  {
   "cell_type": "code",
   "execution_count": null,
   "metadata": {},
   "outputs": [],
   "source": [
    "inc_pca = fit_PCA(21, X)\n",
    "X_reduced = inc_pca.transform(X)\n",
    "X_reduced.shape"
   ]
  },
  {
   "cell_type": "code",
   "execution_count": null,
   "metadata": {
    "collapsed": true
   },
   "outputs": [],
   "source": [
    "pickle.dump((X_reduced, y), open(\"./X_reduced_test.pickle\", \"wb\"))"
   ]
  },
  {
   "cell_type": "code",
   "execution_count": 1,
   "metadata": {},
   "outputs": [],
   "source": [
    "import pickle\n",
    "X_reduced, y = pickle.load(open(\"./X_reduced_test.pickle\", 'rb'))"
   ]
  },
  {
   "cell_type": "code",
   "execution_count": 2,
   "metadata": {},
   "outputs": [],
   "source": [
    "# Need to set casualty severity to start from 0\n",
    "y_labels = y.apply(lambda x : x - 1)"
   ]
  },
  {
   "cell_type": "markdown",
   "metadata": {},
   "source": [
    "## Creating neural network to classify accident severity"
   ]
  },
  {
   "cell_type": "code",
   "execution_count": 3,
   "metadata": {},
   "outputs": [
    {
     "name": "stderr",
     "output_type": "stream",
     "text": [
      "/home/vinulw/anaconda3/lib/python3.6/site-packages/h5py/__init__.py:34: FutureWarning: Conversion of the second argument of issubdtype from `float` to `np.floating` is deprecated. In future, it will be treated as `np.float64 == np.dtype(float).type`.\n",
      "  from ._conv import register_converters as _register_converters\n"
     ]
    }
   ],
   "source": [
    "import tensorflow as tf\n",
    "n_inputs = X_reduced.shape[1]\n",
    "n_hidden1 = 128\n",
    "n_hidden2 = 32\n",
    "n_outputs = 3"
   ]
  },
  {
   "cell_type": "code",
   "execution_count": 4,
   "metadata": {},
   "outputs": [],
   "source": [
    "X = tf.placeholder(tf.float32, shape=(None, n_inputs), name=\"X\")\n",
    "y = tf.placeholder(tf.int64, shape=(None), name=\"y\")"
   ]
  },
  {
   "cell_type": "code",
   "execution_count": 5,
   "metadata": {},
   "outputs": [],
   "source": [
    "dropout_rate = 0.9\n",
    "\n",
    "training = tf.placeholder_with_default(False, shape=(), name=\"training\")\n",
    "\n",
    "X_drop = tf.layers.dropout(X, dropout_rate, training=training)\n",
    "\n",
    "\n",
    "with tf.name_scope(\"NN\"):\n",
    "    hidden1 = tf.layers.dense(X, n_hidden1, name=\"hidden1\", activation=tf.nn.relu)\n",
    "    hidden2 = tf.layers.dense(hidden1, n_hidden2, name=\"hidden2\", activation=tf.nn.relu)\n",
    "    logits = tf.layers.dense(hidden1, n_outputs, name=\"outputs\")"
   ]
  },
  {
   "cell_type": "code",
   "execution_count": 6,
   "metadata": {
    "collapsed": true
   },
   "outputs": [],
   "source": [
    "with tf.name_scope(\"loss\"):\n",
    "    xentropy = tf.nn.sparse_softmax_cross_entropy_with_logits(labels=y, logits=logits)\n",
    "    loss = tf.reduce_mean(xentropy, name=\"loss\")"
   ]
  },
  {
   "cell_type": "code",
   "execution_count": 7,
   "metadata": {},
   "outputs": [],
   "source": [
    "eta = 0.0005\n",
    "m = 0.7\n",
    "\n",
    "with tf.name_scope(\"train\"):\n",
    "    optimizer = tf.train.MomentumOptimizer(eta, momentum=m, use_nesterov=True)\n",
    "    training_op = optimizer.minimize(loss)"
   ]
  },
  {
   "cell_type": "code",
   "execution_count": 8,
   "metadata": {
    "collapsed": true
   },
   "outputs": [],
   "source": [
    "with tf.name_scope(\"eval\"):\n",
    "    correct = tf.nn.in_top_k(logits, y, 1)\n",
    "    accuracy = tf.reduce_mean(tf.cast(correct, tf.float32))"
   ]
  },
  {
   "cell_type": "code",
   "execution_count": 9,
   "metadata": {
    "collapsed": true
   },
   "outputs": [],
   "source": [
    "init = tf.global_variables_initializer()"
   ]
  },
  {
   "cell_type": "code",
   "execution_count": 10,
   "metadata": {},
   "outputs": [],
   "source": [
    "from sklearn.model_selection import train_test_split\n",
    "\n",
    "epochs = 30\n",
    "batch_size = 50\n",
    "\n",
    "with tf.Session() as sess:\n",
    "    init.run()\n",
    "    \n",
    "    losses = []\n",
    "    accuracies_val = []\n",
    "    accuracies_training = []\n",
    "\n",
    "    for epoch in range(epochs):\n",
    "        X_train, X_test, y_train, y_test = train_test_split(X_reduced, y_labels, random_state=4, test_size=0.3)\n",
    "        size = X_train.shape[0]\n",
    "        for i in range(size // batch_size):\n",
    "            split_slice = slice(i, min(size, i+batch_size), 1)\n",
    "            X_train_batch = X_train[split_slice]\n",
    "            y_train_batch = y_train[split_slice]\n",
    "            sess.run(training_op, feed_dict={X: X_train_batch, y: y_train_batch})\n",
    "        acc_train = accuracy.eval(feed_dict={X: X_train_batch, y: y_train_batch})\n",
    "        acc_val = accuracy.eval(feed_dict={X: X_test, y: y_test})\n",
    "        l = sess.run(loss, feed_dict={X: X_test, y: y_test})\n",
    "        losses.append(l)\n",
    "        accuracies_val.append(acc_val)\n",
    "        accuracies_training.append(acc_train)"
   ]
  },
  {
   "cell_type": "code",
   "execution_count": 11,
   "metadata": {},
   "outputs": [
    {
     "data": {
      "text/plain": [
       "<matplotlib.legend.Legend at 0x7f6e5e39de10>"
      ]
     },
     "execution_count": 11,
     "metadata": {},
     "output_type": "execute_result"
    },
    {
     "data": {
      "image/png": "[encoded data removed]",
      "text/plain": [
       "<matplotlib.figure.Figure at 0x7f6e94061080>"
      ]
     },
     "metadata": {},
     "output_type": "display_data"
    }
   ],
   "source": [
    "%matplotlib inline\n",
    "import matplotlib.pyplot as plt\n",
    "plt.plot(accuracies_val, label=\"validation\")\n",
    "plt.plot(accuracies_training, label=\"training\")\n",
    "plt.legend()"
   ]
  },
  {
   "cell_type": "markdown",
   "metadata": {},
   "source": [
    "## Import the Test Data"
   ]
  },
  {
   "cell_type": "code",
   "execution_count": null,
   "metadata": {
    "collapsed": true
   },
   "outputs": [],
   "source": [
    "test_file = \"\""
   ]
  }
 ],
 "metadata": {
  "kernelspec": {
   "display_name": "Python 3",
   "language": "python",
   "name": "python3"
  },
  "language_info": {
   "codemirror_mode": {
    "name": "ipython",
    "version": 3
   },
   "file_extension": ".py",
   "mimetype": "text/x-python",
   "name": "python",
   "nbconvert_exporter": "python",
   "pygments_lexer": "ipython3",
   "version": "3.6.3"
  }
 },
 "nbformat": 4,
 "nbformat_minor": 2
}
