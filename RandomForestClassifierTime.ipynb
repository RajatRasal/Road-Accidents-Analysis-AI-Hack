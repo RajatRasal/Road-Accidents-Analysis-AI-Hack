{
 "cells": [
  {
   "cell_type": "code",
   "execution_count": 1,
   "metadata": {},
   "outputs": [],
   "source": [
    "import pandas as pd\n",
    "import numpy as np"
   ]
  },
  {
   "cell_type": "code",
   "execution_count": 2,
   "metadata": {},
   "outputs": [
    {
     "name": "stderr",
     "output_type": "stream",
     "text": [
      "/anaconda3/lib/python3.6/site-packages/IPython/core/interactiveshell.py:3018: DtypeWarning: Columns (0,55) have mixed types. Specify dtype option on import or set low_memory=False.\n",
      "  interactivity=interactivity, compiler=compiler, result=result)\n"
     ]
    }
   ],
   "source": [
    "# new_data = pd.read_csv(\"./new_data.csv\")\n",
    "data = pd.read_csv(\"./data.csv\")\n",
    "time_data = pd.read_csv('./Road Accident/Road-Accident.csv', na_values=-1, parse_dates=['time'], infer_datetime_format=True)\n",
    "\n",
    "\n"
   ]
  },
  {
   "cell_type": "code",
   "execution_count": 3,
   "metadata": {},
   "outputs": [
    {
     "name": "stderr",
     "output_type": "stream",
     "text": [
      "/anaconda3/lib/python3.6/site-packages/ipykernel_launcher.py:9: FutureWarning: set_value is deprecated and will be removed in a future release. Please use .at[] or .iat[] accessors instead\n",
      "  if __name__ == '__main__':\n"
     ]
    }
   ],
   "source": [
    "# config datetime to ordered integers\n",
    "st = pd.Timestamp(year=1900, month=1, day=1)\n",
    "def convert_date(x):\n",
    "    return (pd.to_datetime(x,dayfirst=True) - st).days + 2\n",
    "#print((pd.to_datetime('31/12/2014',dayfirst=True) - st).days + 2)\n",
    "for i, row in time_data.iterrows():\n",
    "    if len(row['date']) == 10:\n",
    "        c = convert_date(row['date'])\n",
    "        time_data.set_value(i,'date', c)\n",
    "     \n",
    "    \n",
    "time_data['date'] = time_data['date'].astype(np.int64)\n",
    "# time_data.index = time_data.date\n",
    "# time_data = data.sort_index()\n",
    "\n"
   ]
  },
  {
   "cell_type": "code",
   "execution_count": null,
   "metadata": {},
   "outputs": [],
   "source": [
    "means_for_cols = data.mean()\n",
    "cols_with_nulls = data.isnull().any(axis=0).index[:]\n",
    "\n",
    "y = new_data.casualty_severity\n",
    "X = new_data.drop('casualty_class', axis=1)"
   ]
  },
  {
   "cell_type": "code",
   "execution_count": null,
   "metadata": {},
   "outputs": [],
   "source": [
    "from sklearn.ensemble import RandomForestClassifier, RandomForestRegressor\n",
    "import pickle"
   ]
  },
  {
   "cell_type": "code",
   "execution_count": null,
   "metadata": {},
   "outputs": [],
   "source": [
    "continuous_variables = ['longitude', 'latitude']\n",
    "\n",
    "\n",
    "def random_forest_generator(col_name, data):\n",
    "    y = data[col_name]\n",
    "    X = data.drop(col_name, axis=1)\n",
    "    if col_name not in continuous_variables:\n",
    "        rf = RandomForestClassifier(n_estimators=50, max_leaf_nodes=8, n_jobs=-1)\n",
    "        rf.fit(X, y)\n",
    "        return rf\n",
    "    else:\n",
    "        return\n",
    "\n"
   ]
  },
  {
   "cell_type": "code",
   "execution_count": null,
   "metadata": {},
   "outputs": [],
   "source": []
  }
 ],
 "metadata": {
  "kernelspec": {
   "display_name": "Python 3",
   "language": "python",
   "name": "python3"
  },
  "language_info": {
   "codemirror_mode": {
    "name": "ipython",
    "version": 3
   },
   "file_extension": ".py",
   "mimetype": "text/x-python",
   "name": "python",
   "nbconvert_exporter": "python",
   "pygments_lexer": "ipython3",
   "version": "3.6.6"
  }
 },
 "nbformat": 4,
 "nbformat_minor": 2
}
