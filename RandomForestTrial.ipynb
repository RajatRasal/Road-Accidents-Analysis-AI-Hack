{
 "cells": [
  {
   "cell_type": "code",
   "execution_count": 6,
   "metadata": {},
   "outputs": [
    {
     "name": "stderr",
     "output_type": "stream",
     "text": [
      "/Users/rajatrasal/anaconda3/lib/python3.6/site-packages/IPython/core/interactiveshell.py:2698: DtypeWarning: Columns (0,55) have mixed types. Specify dtype option on import or set low_memory=False.\n",
      "  interactivity=interactivity, compiler=compiler, result=result)\n"
     ]
    }
   ],
   "source": [
    "import pandas as pd\n",
    "import numpy as np\n",
    "import matplotlib.pyplot as plt\n",
    "import seaborn as sns\n",
    "%matplotlib inline\n",
    "\n",
    "data = pd.read_csv(\"Road_Accident_Data//Road-Accident.csv\")"
   ]
  },
  {
   "cell_type": "code",
   "execution_count": 7,
   "metadata": {},
   "outputs": [],
   "source": [
    "# nan_casualties = data[pd.isnull(data['casualty_class'])]"
   ]
  },
  {
   "cell_type": "code",
   "execution_count": 8,
   "metadata": {},
   "outputs": [
    {
     "name": "stdout",
     "output_type": "stream",
     "text": [
      "before:  (285331, 70)\n",
      "(174538, 70)\n",
      "after:  (174538, 70)\n"
     ]
    }
   ],
   "source": [
    "data['casualty_class'].value_counts()\n",
    "\n",
    "print(\"before: \", data.shape)\n",
    "\n",
    "mean = data['casualty_class'].mean()\n",
    "\n",
    "# casualties = data['casualty_class'].dropna()\n",
    "casualties = data.dropna()\n",
    "casualty_index = np.array(casualties.index)\n",
    "\n",
    "casualties = data.iloc[casualty_index, :]\n",
    "\n",
    "print(casualties.shape)\n",
    "set(casualties.dtypes)\n",
    "print(\"after: \", casualties.shape)"
   ]
  },
  {
   "cell_type": "code",
   "execution_count": 9,
   "metadata": {},
   "outputs": [],
   "source": [
    "casualties = casualties.select_dtypes(exclude=['O'])\n",
    "casualties.shape\n",
    "names = casualties.columns.values"
   ]
  },
  {
   "cell_type": "code",
   "execution_count": 10,
   "metadata": {},
   "outputs": [],
   "source": [
    "y = casualties.casualty_severity\n",
    "X = casualties.drop('casualty_class', axis=1)"
   ]
  },
  {
   "cell_type": "code",
   "execution_count": 11,
   "metadata": {},
   "outputs": [
    {
     "data": {
      "text/plain": [
       "231309    2.0\n",
       "68542     3.0\n",
       "148177    3.0\n",
       "192789    3.0\n",
       "139516    3.0\n",
       "197144    3.0\n",
       "150572    3.0\n",
       "29084     3.0\n",
       "66177     3.0\n",
       "88772     3.0\n",
       "18146     3.0\n",
       "7145      3.0\n",
       "242883    3.0\n",
       "2925      2.0\n",
       "218302    3.0\n",
       "105698    2.0\n",
       "39779     3.0\n",
       "23720     3.0\n",
       "87294     3.0\n",
       "118282    3.0\n",
       "95616     2.0\n",
       "132783    3.0\n",
       "130923    3.0\n",
       "195113    3.0\n",
       "259242    3.0\n",
       "215268    2.0\n",
       "55256     3.0\n",
       "210849    3.0\n",
       "250084    2.0\n",
       "22378     3.0\n",
       "         ... \n",
       "169010    3.0\n",
       "257444    3.0\n",
       "205956    3.0\n",
       "15844     3.0\n",
       "7633      3.0\n",
       "249409    2.0\n",
       "229363    3.0\n",
       "215198    3.0\n",
       "256879    3.0\n",
       "224299    3.0\n",
       "246778    3.0\n",
       "56992     2.0\n",
       "253122    3.0\n",
       "71508     3.0\n",
       "58851     3.0\n",
       "163973    2.0\n",
       "233874    3.0\n",
       "179242    3.0\n",
       "4105      3.0\n",
       "84464     3.0\n",
       "184830    3.0\n",
       "241211    3.0\n",
       "131087    3.0\n",
       "5645      3.0\n",
       "233361    3.0\n",
       "51765     3.0\n",
       "182826    3.0\n",
       "179439    3.0\n",
       "250314    3.0\n",
       "39632     3.0\n",
       "Name: casualty_severity, Length: 34908, dtype: float64"
      ]
     },
     "execution_count": 11,
     "metadata": {},
     "output_type": "execute_result"
    }
   ],
   "source": [
    "from sklearn.model_selection import train_test_split\n",
    "X_train, X_test, y_train, y_test = train_test_split(X, y, test_size=0.2, random_state=42)\n",
    "y_test"
   ]
  },
  {
   "cell_type": "code",
   "execution_count": 12,
   "metadata": {},
   "outputs": [
    {
     "data": {
      "text/plain": [
       "RandomForestClassifier(bootstrap=True, class_weight=None, criterion='gini',\n",
       "            max_depth=None, max_features='auto', max_leaf_nodes=None,\n",
       "            min_impurity_decrease=0.0, min_impurity_split=None,\n",
       "            min_samples_leaf=1, min_samples_split=2,\n",
       "            min_weight_fraction_leaf=0.0, n_estimators=10, n_jobs=1,\n",
       "            oob_score=False, random_state=None, verbose=0,\n",
       "            warm_start=False)"
      ]
     },
     "execution_count": 12,
     "metadata": {},
     "output_type": "execute_result"
    }
   ],
   "source": [
    "from sklearn.ensemble import RandomForestClassifier\n",
    "\n",
    "rf = RandomForestClassifier()\n",
    "rf.fit(X_train, y_train)"
   ]
  },
  {
   "cell_type": "code",
   "execution_count": 13,
   "metadata": {},
   "outputs": [
    {
     "data": {
      "text/plain": [
       "[(0.6816, 'age_band_of_casualty'),\n",
       " (0.2241, 'accident_severity'),\n",
       " (0.0164, 'pedestrian_road_maintenance_worker'),\n",
       " (0.0063, 'vehicle_type'),\n",
       " (0.005, 'casualty_reference'),\n",
       " (0.0046, 'No_of_Vehicles_involved_unique_to_accident_index'),\n",
       " (0.004, 'number_of_casualties'),\n",
       " (0.0036, 'number_of_vehicles'),\n",
       " (0.0035, 'local_authority_(district)'),\n",
       " (0.0032, 'vehicle_manoeuvre'),\n",
       " (0.0028, 'NUmber_of_Casualities_unique_to_accident_index'),\n",
       " (0.0027, 'sex_of_casualty'),\n",
       " (0.0023, 'speed_limit'),\n",
       " (0.0021, 'age_of_casualty'),\n",
       " (0.002, 'police_force'),\n",
       " (0.002, 'location_easting_osgr'),\n",
       " (0.002, 'hit_object_off_carriageway'),\n",
       " (0.002, 'engine_capacity_(cc)'),\n",
       " (0.002, 'age_of_driver'),\n",
       " (0.0018, 'location_northing_osgr'),\n",
       " (0.0018, 'latitude'),\n",
       " (0.0017, 'longitude'),\n",
       " (0.0014, '1st_road_number'),\n",
       " (0.0013, 'casualty_home_area_type'),\n",
       " (0.0013, 'age_of_vehicle'),\n",
       " (0.0012, 'vehicle_reference'),\n",
       " (0.0011, 'vehicle_leaving_carriageway'),\n",
       " (0.001, 'age_band_of_driver'),\n",
       " (0.0009, 'urban_or_rural_area'),\n",
       " (0.0009, 'did_police_officer_attend_scene_of_accident'),\n",
       " (0.0008, 'pedestrian_movement'),\n",
       " (0.0008, 'driver_home_area_type'),\n",
       " (0.0008, 'day_of_week'),\n",
       " (0.0007, 'light_conditions'),\n",
       " (0.0007, 'casualty_severity'),\n",
       " (0.0007, '1st_point_of_impact'),\n",
       " (0.0006, 'road_type'),\n",
       " (0.0006, 'junction_location'),\n",
       " (0.0006, 'junction_detail'),\n",
       " (0.0006, '2nd_road_number'),\n",
       " (0.0005, 'skidding_and_overturning'),\n",
       " (0.0005, 'pedestrian_location'),\n",
       " (0.0005, 'casualty_type'),\n",
       " (0.0005, 'casualty_class'),\n",
       " (0.0005, '1st_road_class'),\n",
       " (0.0004, 'weather_conditions'),\n",
       " (0.0004, 'road_surface_conditions'),\n",
       " (0.0004, 'propulsion_code'),\n",
       " (0.0004, 'journey_purpose_of_driver'),\n",
       " (0.0004, 'hit_object_in_carriageway'),\n",
       " (0.0004, '2nd_road_class'),\n",
       " (0.0003, 'sex_of_driver'),\n",
       " (0.0003, 'pedestrian_crossing-physical_facilities'),\n",
       " (0.0003, 'junction_control'),\n",
       " (0.0002, 'towing_and_articulation'),\n",
       " (0.0001, 'was_vehicle_left_hand_drive?'),\n",
       " (0.0001, 'vehicle_location-restricted_lane'),\n",
       " (0.0001, 'special_conditions_at_site'),\n",
       " (0.0001, 'carriageway_hazards'),\n",
       " (0.0001, 'bus_or_coach_passenger'),\n",
       " (0.0, 'vehicle_imd_decile'),\n",
       " (0.0, 'pedestrian_crossing-human_control'),\n",
       " (0.0, 'driver_imd_decile'),\n",
       " (0.0, 'car_passenger')]"
      ]
     },
     "execution_count": 13,
     "metadata": {},
     "output_type": "execute_result"
    }
   ],
   "source": [
    "sorted(zip(map(lambda x: round(x, 4), rf.feature_importances_), names), reverse=True)"
   ]
  },
  {
   "cell_type": "code",
   "execution_count": null,
   "metadata": {
    "collapsed": true
   },
   "outputs": [],
   "source": []
  }
 ],
 "metadata": {
  "kernelspec": {
   "display_name": "Python [default]",
   "language": "python",
   "name": "python3"
  },
  "language_info": {
   "codemirror_mode": {
    "name": "ipython",
    "version": 3
   },
   "file_extension": ".py",
   "mimetype": "text/x-python",
   "name": "python",
   "nbconvert_exporter": "python",
   "pygments_lexer": "ipython3",
   "version": "3.6.6"
  }
 },
 "nbformat": 4,
 "nbformat_minor": 2
}
