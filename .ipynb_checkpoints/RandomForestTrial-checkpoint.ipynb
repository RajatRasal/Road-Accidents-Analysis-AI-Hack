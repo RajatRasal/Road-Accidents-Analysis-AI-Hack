{
 "cells": [
  {
   "cell_type": "code",
   "execution_count": 1,
   "metadata": {},
   "outputs": [
    {
     "name": "stderr",
     "output_type": "stream",
     "text": [
      "/Users/rajatrasal/anaconda3/lib/python3.6/site-packages/IPython/core/interactiveshell.py:2698: DtypeWarning: Columns (0,55) have mixed types. Specify dtype option on import or set low_memory=False.\n",
      "  interactivity=interactivity, compiler=compiler, result=result)\n"
     ]
    }
   ],
   "source": [
    "import pandas as pd\n",
    "import numpy as np\n",
    "import matplotlib.pyplot as plt\n",
    "import seaborn as sns\n",
    "%matplotlib inline\n",
    "\n",
    "data = pd.read_csv(\"Road_Accident_Data//Road-Accident.csv\")"
   ]
  },
  {
   "cell_type": "code",
   "execution_count": 2,
   "metadata": {},
   "outputs": [],
   "source": [
    "# nan_casualties = data[pd.isnull(data['casualty_class'])]"
   ]
  },
  {
   "cell_type": "code",
   "execution_count": 4,
   "metadata": {},
   "outputs": [
    {
     "name": "stdout",
     "output_type": "stream",
     "text": [
      "before:  (285331, 70)\n",
      "(174538, 70)\n",
      "after:  (174538, 70)\n"
     ]
    }
   ],
   "source": [
    "data['casualty_class'].value_counts()\n",
    "\n",
    "print(\"before: \", data.shape)\n",
    "\n",
    "mean = data['casualty_class'].mean()\n",
    "\n",
    "# casualties = data['casualty_class'].dropna()\n",
    "casualties = data.dropna()\n",
    "casualty_index = np.array(casualties.index)\n",
    "\n",
    "casualties = data.iloc[casualty_index, :]\n",
    "\n",
    "print(casualties.shape)\n",
    "set(casualties.dtypes)\n",
    "print(\"after: \", casualties.shape)"
   ]
  },
  {
   "cell_type": "code",
   "execution_count": 4,
   "metadata": {},
   "outputs": [],
   "source": [
    "casualties = casualties.select_dtypes(exclude=['O'])\n",
    "casualties.shape\n",
    "names = casualties.columns.values"
   ]
  },
  {
   "cell_type": "code",
   "execution_count": 5,
   "metadata": {},
   "outputs": [],
   "source": [
    "y = casualties.casualty_severity\n",
    "X = casualties.drop('casualty_class', axis=1)"
   ]
  },
  {
   "cell_type": "code",
   "execution_count": 6,
   "metadata": {},
   "outputs": [],
   "source": [
    "from sklearn.model_selection import train_test_split\n",
    "X_train, X_test, y_train, y_test = train_test_split(X, y, test_size=0.2, random_state=42)"
   ]
  },
  {
   "cell_type": "code",
   "execution_count": 7,
   "metadata": {},
   "outputs": [
    {
     "data": {
      "text/plain": [
       "RandomForestClassifier(bootstrap=True, class_weight=None, criterion='gini',\n",
       "            max_depth=None, max_features='auto', max_leaf_nodes=None,\n",
       "            min_impurity_decrease=0.0, min_impurity_split=None,\n",
       "            min_samples_leaf=1, min_samples_split=2,\n",
       "            min_weight_fraction_leaf=0.0, n_estimators=10, n_jobs=1,\n",
       "            oob_score=False, random_state=None, verbose=0,\n",
       "            warm_start=False)"
      ]
     },
     "execution_count": 7,
     "metadata": {},
     "output_type": "execute_result"
    }
   ],
   "source": [
    "from sklearn.ensemble import RandomForestClassifier\n",
    "\n",
    "rf = RandomForestClassifier()\n",
    "rf.fit(X_train, y_train)"
   ]
  },
  {
   "cell_type": "code",
   "execution_count": 8,
   "metadata": {},
   "outputs": [
    {
     "data": {
      "text/plain": [
       "[(0.5396, 'age_band_of_casualty'),\n",
       " (0.3398, 'accident_severity'),\n",
       " (0.0182, 'NUmber_of_Casualities_unique_to_accident_index'),\n",
       " (0.011, 'vehicle_type'),\n",
       " (0.0095, 'pedestrian_road_maintenance_worker'),\n",
       " (0.004, 'number_of_casualties'),\n",
       " (0.004, 'local_authority_(district)'),\n",
       " (0.0038, 'sex_of_casualty'),\n",
       " (0.0035, 'casualty_reference'),\n",
       " (0.0034, 'urban_or_rural_area'),\n",
       " (0.0033, 'engine_capacity_(cc)'),\n",
       " (0.0033, 'No_of_Vehicles_involved_unique_to_accident_index'),\n",
       " (0.0032, 'casualty_severity'),\n",
       " (0.0029, 'pedestrian_location'),\n",
       " (0.0026, '1st_point_of_impact'),\n",
       " (0.0025, 'vehicle_leaving_carriageway'),\n",
       " (0.0024, 'number_of_vehicles'),\n",
       " (0.0024, 'location_easting_osgr'),\n",
       " (0.0024, 'age_of_driver'),\n",
       " (0.0023, 'location_northing_osgr'),\n",
       " (0.0023, 'latitude'),\n",
       " (0.0022, 'longitude'),\n",
       " (0.0017, 'casualty_home_area_type'),\n",
       " (0.0017, 'age_of_vehicle'),\n",
       " (0.0016, 'vehicle_manoeuvre'),\n",
       " (0.0016, 'did_police_officer_attend_scene_of_accident'),\n",
       " (0.0016, 'age_of_casualty'),\n",
       " (0.0016, 'age_band_of_driver'),\n",
       " (0.0016, '1st_road_number'),\n",
       " (0.0015, 'police_force'),\n",
       " (0.0014, 'hit_object_off_carriageway'),\n",
       " (0.0013, 'speed_limit'),\n",
       " (0.0012, 'skidding_and_overturning'),\n",
       " (0.0012, 'day_of_week'),\n",
       " (0.0011, 'light_conditions'),\n",
       " (0.0011, 'junction_location'),\n",
       " (0.001, 'vehicle_reference'),\n",
       " (0.0009, '1st_road_class'),\n",
       " (0.0007, 'junction_detail'),\n",
       " (0.0007, 'casualty_type'),\n",
       " (0.0006, 'pedestrian_movement'),\n",
       " (0.0006, 'journey_purpose_of_driver'),\n",
       " (0.0006, 'driver_home_area_type'),\n",
       " (0.0006, 'casualty_class'),\n",
       " (0.0005, 'weather_conditions'),\n",
       " (0.0005, 'sex_of_driver'),\n",
       " (0.0005, 'road_type'),\n",
       " (0.0005, 'road_surface_conditions'),\n",
       " (0.0005, 'propulsion_code'),\n",
       " (0.0005, 'hit_object_in_carriageway'),\n",
       " (0.0005, '2nd_road_number'),\n",
       " (0.0004, 'pedestrian_crossing-physical_facilities'),\n",
       " (0.0004, '2nd_road_class'),\n",
       " (0.0003, 'car_passenger'),\n",
       " (0.0002, 'vehicle_location-restricted_lane'),\n",
       " (0.0002, 'towing_and_articulation'),\n",
       " (0.0002, 'junction_control'),\n",
       " (0.0001, 'was_vehicle_left_hand_drive?'),\n",
       " (0.0001, 'special_conditions_at_site'),\n",
       " (0.0001, 'carriageway_hazards'),\n",
       " (0.0, 'vehicle_imd_decile'),\n",
       " (0.0, 'pedestrian_crossing-human_control'),\n",
       " (0.0, 'driver_imd_decile'),\n",
       " (0.0, 'bus_or_coach_passenger')]"
      ]
     },
     "execution_count": 8,
     "metadata": {},
     "output_type": "execute_result"
    }
   ],
   "source": [
    "sorted(zip(map(lambda x: round(x, 4), rf.feature_importances_), names), reverse=True)"
   ]
  },
  {
   "cell_type": "code",
   "execution_count": null,
   "metadata": {
    "collapsed": true
   },
   "outputs": [],
   "source": []
  }
 ],
 "metadata": {
  "kernelspec": {
   "display_name": "Python 3",
   "language": "python",
   "name": "python3"
  },
  "language_info": {
   "codemirror_mode": {
    "name": "ipython",
    "version": 3
   },
   "file_extension": ".py",
   "mimetype": "text/x-python",
   "name": "python",
   "nbconvert_exporter": "python",
   "pygments_lexer": "ipython3",
   "version": "3.6.6"
  }
 },
 "nbformat": 4,
 "nbformat_minor": 2
}
